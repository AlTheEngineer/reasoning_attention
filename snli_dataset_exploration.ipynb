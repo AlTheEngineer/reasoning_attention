{
 "cells": [
  {
   "cell_type": "code",
   "execution_count": 1,
   "metadata": {
    "collapsed": true
   },
   "outputs": [],
   "source": [
    "import logging\n",
    "\n",
    "logging.basicConfig(format='%(asctime)s %(levelname)s %(message)s',\n",
    "                    datefmt='%m/%d/%Y %I:%M:%S %p',\n",
    "                    level=logging.DEBUG)\n",
    "logger = logging.getLogger(__name__)\n",
    "\n",
    "import pandas as pd"
   ]
  },
  {
   "cell_type": "code",
   "execution_count": 58,
   "metadata": {
    "collapsed": true
   },
   "outputs": [],
   "source": [
    "import pickle"
   ]
  },
  {
   "cell_type": "code",
   "execution_count": 2,
   "metadata": {
    "collapsed": false
   },
   "outputs": [],
   "source": [
    "from gensim.models import Word2Vec"
   ]
  },
  {
   "cell_type": "code",
   "execution_count": 3,
   "metadata": {
    "collapsed": false
   },
   "outputs": [
    {
     "name": "stdout",
     "output_type": "stream",
     "text": [
      "loading snli data ...\n"
     ]
    }
   ],
   "source": [
    "print('loading snli data ...')\n",
    "train_df = pd.read_csv('./snli/snli_1.0/snli_1.0_train.txt', delimiter='\\t')\n",
    "\n",
    "test_df = pd.read_csv('./snli/snli_1.0/snli_1.0_test.txt', delimiter='\\t')\n",
    "\n",
    "dev_df = pd.read_csv('./snli/snli_1.0/snli_1.0_dev.txt', delimiter='\\t')"
   ]
  },
  {
   "cell_type": "code",
   "execution_count": 4,
   "metadata": {
    "collapsed": false
   },
   "outputs": [],
   "source": [
    "word2vec = Word2Vec.load_word2vec_format('/home/junfeng/word2vec/GoogleNews-vectors-negative300.bin', binary=True)"
   ]
  },
  {
   "cell_type": "code",
   "execution_count": 10,
   "metadata": {
    "collapsed": false
   },
   "outputs": [
    {
     "data": {
      "text/plain": [
       "3000000"
      ]
     },
     "execution_count": 10,
     "metadata": {},
     "output_type": "execute_result"
    }
   ],
   "source": [
    "len(word2vec.vocab)"
   ]
  },
  {
   "cell_type": "code",
   "execution_count": 14,
   "metadata": {
    "collapsed": false
   },
   "outputs": [
    {
     "data": {
      "text/plain": [
       "<gensim.models.word2vec.Vocab at 0x7ff105f0e908>"
      ]
     },
     "execution_count": 14,
     "metadata": {},
     "output_type": "execute_result"
    }
   ],
   "source": [
    "word2vec.vocab['hello']"
   ]
  },
  {
   "cell_type": "code",
   "execution_count": 5,
   "metadata": {
    "collapsed": true
   },
   "outputs": [],
   "source": [
    "from nltk.tokenize import word_tokenize, wordpunct_tokenize, RegexpTokenizer"
   ]
  },
  {
   "cell_type": "code",
   "execution_count": 6,
   "metadata": {
    "collapsed": true
   },
   "outputs": [],
   "source": [
    "hw = 'Hello, World!'"
   ]
  },
  {
   "cell_type": "code",
   "execution_count": 7,
   "metadata": {
    "collapsed": false
   },
   "outputs": [
    {
     "data": {
      "text/plain": [
       "['Hello', ',', 'World', '!']"
      ]
     },
     "execution_count": 7,
     "metadata": {},
     "output_type": "execute_result"
    }
   ],
   "source": [
    "word_tokenize(hw)"
   ]
  },
  {
   "cell_type": "code",
   "execution_count": 8,
   "metadata": {
    "collapsed": true
   },
   "outputs": [],
   "source": [
    "re_tokenize = RegexpTokenizer('\\w+')"
   ]
  },
  {
   "cell_type": "code",
   "execution_count": 9,
   "metadata": {
    "collapsed": false
   },
   "outputs": [
    {
     "data": {
      "text/plain": [
       "['Hello', 'World']"
      ]
     },
     "execution_count": 9,
     "metadata": {},
     "output_type": "execute_result"
    }
   ],
   "source": [
    "re_tokenize.tokenize(hw)"
   ]
  },
  {
   "cell_type": "markdown",
   "metadata": {},
   "source": [
    "#### first tokenize premise and hypothesis, not just plain split, because of punctuation"
   ]
  },
  {
   "cell_type": "code",
   "execution_count": 19,
   "metadata": {
    "collapsed": true
   },
   "outputs": [],
   "source": [
    "from collections import OrderedDict"
   ]
  },
  {
   "cell_type": "code",
   "execution_count": 23,
   "metadata": {
    "collapsed": true
   },
   "outputs": [],
   "source": [
    "inv_words, oov_words_in_train = OrderedDict(), set()"
   ]
  },
  {
   "cell_type": "code",
   "execution_count": 24,
   "metadata": {
    "collapsed": true
   },
   "outputs": [],
   "source": [
    "def check_sent(s):\n",
    "    # s = s.str.translate(punctuation)\n",
    "    count = 0\n",
    "    for r in s:\n",
    "        if type(r) != str:\n",
    "            print(r)\n",
    "            count += 1\n",
    "            continue\n",
    "        # words = re_tokenize.tokenize(r)\n",
    "        words = word_tokenize(r)\n",
    "        for w in words:\n",
    "            if w in inv_words or w in oov_words_in_train:\n",
    "                continue\n",
    "            if w not in word2vec:\n",
    "                count += 1\n",
    "                oov_words_in_train.add(w)\n",
    "            else:\n",
    "                inv_words[w] = word2vec.vocab[w].index\n",
    "    return count"
   ]
  },
  {
   "cell_type": "code",
   "execution_count": 25,
   "metadata": {
    "collapsed": false
   },
   "outputs": [
    {
     "name": "stdout",
     "output_type": "stream",
     "text": [
      "nan\n",
      "nan\n",
      "nan\n"
     ]
    },
    {
     "data": {
      "text/plain": [
       "sentence1    3116\n",
       "sentence2    6053\n",
       "dtype: int64"
      ]
     },
     "execution_count": 25,
     "metadata": {},
     "output_type": "execute_result"
    }
   ],
   "source": [
    "train_df[['sentence1', 'sentence2']].apply(check_sent)"
   ]
  },
  {
   "cell_type": "code",
   "execution_count": 26,
   "metadata": {
    "collapsed": false
   },
   "outputs": [
    {
     "data": {
      "text/plain": [
       "(33509, 9166)"
      ]
     },
     "execution_count": 26,
     "metadata": {},
     "output_type": "execute_result"
    }
   ],
   "source": [
    "len(inv_words), len(oov_words_in_train)"
   ]
  },
  {
   "cell_type": "code",
   "execution_count": 27,
   "metadata": {
    "collapsed": true
   },
   "outputs": [],
   "source": [
    "oov_words_not_train = set()"
   ]
  },
  {
   "cell_type": "code",
   "execution_count": 28,
   "metadata": {
    "collapsed": true
   },
   "outputs": [],
   "source": [
    "def check_sent_dev_test(s):\n",
    "    # s = s.str.translate(punctuation)\n",
    "    count = 0\n",
    "    for r in s:\n",
    "        if type(r) != str:\n",
    "            print(r)\n",
    "            count += 1\n",
    "            continue\n",
    "        # words = re_tokenize.tokenize(r)\n",
    "        words = word_tokenize(r)\n",
    "        for w in words:\n",
    "            if w in inv_words or w in oov_words_in_train or w in oov_words_not_train:\n",
    "                continue\n",
    "            if w not in word2vec:\n",
    "                count += 1\n",
    "                oov_words_not_train.add(w)\n",
    "            else:\n",
    "                inv_words[w] = word2vec.vocab[w].index\n",
    "    return count"
   ]
  },
  {
   "cell_type": "code",
   "execution_count": 22,
   "metadata": {
    "collapsed": false
   },
   "outputs": [
    {
     "data": {
      "text/plain": [
       "(20000, 14)"
      ]
     },
     "execution_count": 22,
     "metadata": {},
     "output_type": "execute_result"
    }
   ],
   "source": [
    "dev_test_df = pd.concat([dev_df, test_df], ignore_index=True)\n",
    "dev_test_df.shape"
   ]
  },
  {
   "cell_type": "code",
   "execution_count": 29,
   "metadata": {
    "collapsed": false
   },
   "outputs": [
    {
     "data": {
      "text/plain": [
       "sentence1    134\n",
       "sentence2    161\n",
       "dtype: int64"
      ]
     },
     "execution_count": 29,
     "metadata": {},
     "output_type": "execute_result"
    }
   ],
   "source": [
    "dev_test_df[['sentence1', 'sentence2']].apply(check_sent_dev_test)"
   ]
  },
  {
   "cell_type": "code",
   "execution_count": 30,
   "metadata": {
    "collapsed": false
   },
   "outputs": [
    {
     "data": {
      "text/plain": [
       "(33988, 295)"
      ]
     },
     "execution_count": 30,
     "metadata": {},
     "output_type": "execute_result"
    }
   ],
   "source": [
    "len(inv_words), len(oov_words_not_train)"
   ]
  },
  {
   "cell_type": "markdown",
   "metadata": {},
   "source": [
    "#### constructs words to ids dict"
   ]
  },
  {
   "cell_type": "code",
   "execution_count": 52,
   "metadata": {
    "collapsed": true
   },
   "outputs": [],
   "source": [
    "index = 0\n",
    "dictionary = OrderedDict()"
   ]
  },
  {
   "cell_type": "code",
   "execution_count": 53,
   "metadata": {
    "collapsed": false
   },
   "outputs": [],
   "source": [
    "for k in inv_words:\n",
    "    dictionary[k] = index\n",
    "    index += 1"
   ]
  },
  {
   "cell_type": "code",
   "execution_count": 54,
   "metadata": {
    "collapsed": true
   },
   "outputs": [],
   "source": [
    "for k in oov_words_not_train:\n",
    "    dictionary[k] = index\n",
    "    index += 1"
   ]
  },
  {
   "cell_type": "code",
   "execution_count": 55,
   "metadata": {
    "collapsed": false
   },
   "outputs": [
    {
     "data": {
      "text/plain": [
       "34283"
      ]
     },
     "execution_count": 55,
     "metadata": {},
     "output_type": "execute_result"
    }
   ],
   "source": [
    "index"
   ]
  },
  {
   "cell_type": "code",
   "execution_count": 56,
   "metadata": {
    "collapsed": true
   },
   "outputs": [],
   "source": [
    "for k in oov_words_in_train:\n",
    "    dictionary[k] = index\n",
    "    index += 1"
   ]
  },
  {
   "cell_type": "code",
   "execution_count": 57,
   "metadata": {
    "collapsed": false,
    "scrolled": true
   },
   "outputs": [
    {
     "data": {
      "text/plain": [
       "43449"
      ]
     },
     "execution_count": 57,
     "metadata": {},
     "output_type": "execute_result"
    }
   ],
   "source": [
    "index"
   ]
  },
  {
   "cell_type": "code",
   "execution_count": 61,
   "metadata": {
    "collapsed": true
   },
   "outputs": [],
   "source": [
    "dictionary_filename = './snli/dictionary.pkl'\n",
    "with open(dictionary_filename, 'wb') as f:\n",
    "    pickle.dump(dictionary, f)"
   ]
  },
  {
   "cell_type": "markdown",
   "metadata": {},
   "source": [
    "#### constructs words enbedding W"
   ]
  },
  {
   "cell_type": "code",
   "execution_count": 31,
   "metadata": {
    "collapsed": false
   },
   "outputs": [
    {
     "data": {
      "text/plain": [
       "OrderedDict([('A', 73),\n",
       "             ('person', 571),\n",
       "             ('on', 5),\n",
       "             ('horse', 3267),\n",
       "             ('jumps', 10147),\n",
       "             ('over', 63),\n",
       "             ('broken', 2197),\n",
       "             ('down', 119),\n",
       "             ('airplane', 8792),\n",
       "             ('Children', 2875),\n",
       "             ('smiling', 8090),\n",
       "             ('waving', 11553),\n",
       "             ('at', 12),\n",
       "             ('camera', 2652),\n",
       "             ('boy', 1556),\n",
       "             ('is', 4),\n",
       "             ('jumping', 6345),\n",
       "             ('skateboard', 34771),\n",
       "             ('in', 1),\n",
       "             ('the', 11),\n",
       "             ('middle', 1221),\n",
       "             ('red', 1618),\n",
       "             ('bridge', 2683),\n",
       "             ('An', 741),\n",
       "             ('older', 1738),\n",
       "             ('man', 251),\n",
       "             ('sits', 5305),\n",
       "             ('with', 8),\n",
       "             ('his', 26),\n",
       "             ('orange', 7442),\n",
       "             ('juice', 12265),\n",
       "             ('small', 428),\n",
       "             ('table', 1757),\n",
       "             ('coffee', 4126),\n",
       "             ('shop', 2399),\n",
       "             ('while', 118),\n",
       "             ('employees', 725),\n",
       "             ('bright', 4247),\n",
       "             ('colored', 9255),\n",
       "             ('shirts', 9563),\n",
       "             ('smile', 4880),\n",
       "             ('background', 3292),\n",
       "             ('Two', 893),\n",
       "             ('blond', 28816),\n",
       "             ('women', 390),\n",
       "             ('are', 19),\n",
       "             ('hugging', 21105),\n",
       "             ('one', 45),\n",
       "             ('another', 197),\n",
       "             ('few', 278),\n",
       "             ('people', 68),\n",
       "             ('restaurant', 1986),\n",
       "             ('setting', 1728),\n",
       "             ('them', 82),\n",
       "             ('drinking', 3273),\n",
       "             ('brown', 7773),\n",
       "             ('shirt', 5871),\n",
       "             ('out', 49),\n",
       "             ('public', 208),\n",
       "             ('water', 393),\n",
       "             ('fountain', 19523),\n",
       "             ('who', 31),\n",
       "             ('just', 76),\n",
       "             ('had', 35),\n",
       "             ('lunch', 3319),\n",
       "             ('saying', 478),\n",
       "             ('goodbye', 11619),\n",
       "             ('holding', 1328),\n",
       "             ('food', 560),\n",
       "             ('carryout', 83628),\n",
       "             ('containers', 9263),\n",
       "             ('hug', 13471),\n",
       "             ('Little', 3337),\n",
       "             ('League', 1547),\n",
       "             ('team', 102),\n",
       "             ('tries', 3429),\n",
       "             ('catch', 2118),\n",
       "             ('runner', 3293),\n",
       "             ('sliding', 9524),\n",
       "             ('into', 69),\n",
       "             ('base', 853),\n",
       "             ('an', 27),\n",
       "             ('afternoon', 1023),\n",
       "             ('game', 94),\n",
       "             ('The', 7),\n",
       "             ('school', 195),\n",
       "             ('having', 460),\n",
       "             ('special', 605),\n",
       "             ('event', 424),\n",
       "             ('order', 555),\n",
       "             ('show', 261),\n",
       "             ('american', 60437),\n",
       "             ('culture', 2034),\n",
       "             ('how', 139),\n",
       "             ('other', 66),\n",
       "             ('cultures', 8862),\n",
       "             ('dealt', 4989),\n",
       "             ('parties', 1239),\n",
       "             ('High', 1477),\n",
       "             ('fashion', 2622),\n",
       "             ('ladies', 7526),\n",
       "             ('wait', 1588),\n",
       "             ('outside', 586),\n",
       "             ('tram', 30465),\n",
       "             ('beside', 8938),\n",
       "             ('crowd', 1403),\n",
       "             ('city', 219),\n",
       "             ('woman', 641),\n",
       "             ('child', 795),\n",
       "             ('enjoying', 4926),\n",
       "             ('themselves', 909),\n",
       "             ('beach', 3896),\n",
       "             ('People', 1060),\n",
       "             ('waiting', 1603),\n",
       "             ('get', 91),\n",
       "             ('train', 2035),\n",
       "             ('or', 29),\n",
       "             ('getting', 421),\n",
       "             ('off', 104),\n",
       "             ('couple', 698),\n",
       "             ('playing', 520),\n",
       "             ('little', 286),\n",
       "             ('play', 172),\n",
       "             ('tide', 9448),\n",
       "             ('their', 30),\n",
       "             ('young', 533),\n",
       "             ('son', 831),\n",
       "             ('cross', 1773),\n",
       "             ('street', 1482),\n",
       "             ('front', 597),\n",
       "             ('pizza', 8423),\n",
       "             ('gyro', 122300),\n",
       "             ('green', 1516),\n",
       "             ('jacket', 9489),\n",
       "             ('hood', 13725),\n",
       "             ('her', 67),\n",
       "             ('head', 374),\n",
       "             ('looking', 379),\n",
       "             ('towards', 1716),\n",
       "             ('valley', 9137),\n",
       "             ('Woman', 7342),\n",
       "             ('white', 1191),\n",
       "             ('foreground', 36356),\n",
       "             ('slightly', 2127),\n",
       "             ('behind', 474),\n",
       "             ('walking', 2382),\n",
       "             ('sign', 962),\n",
       "             ('for', 2),\n",
       "             ('John', 368),\n",
       "             ('Pizza', 16259),\n",
       "             ('Gyro', 174005),\n",
       "             ('adults', 2279),\n",
       "             ('female', 2302),\n",
       "             ('shades', 15972),\n",
       "             ('male', 2866),\n",
       "             ('gray', 6530),\n",
       "             ('clothes', 3874),\n",
       "             ('across', 391),\n",
       "             ('away', 309),\n",
       "             ('from', 17),\n",
       "             ('eatery', 22899),\n",
       "             ('blurred', 28847),\n",
       "             ('image', 2090),\n",
       "             ('dark', 2853),\n",
       "             ('shirted', 177629),\n",
       "             ('wearing', 2361),\n",
       "             ('all', 52),\n",
       "             ('eating', 3763),\n",
       "             ('walks', 3798),\n",
       "             ('next', 147),\n",
       "             ('briefcase', 33031),\n",
       "             ('banana', 19166),\n",
       "             ('following', 486),\n",
       "             ('skier', 22746),\n",
       "             ('slides', 13510),\n",
       "             ('along', 406),\n",
       "             ('metal', 3349),\n",
       "             ('rail', 3904),\n",
       "             ('skis', 25939),\n",
       "             ('night', 221),\n",
       "             ('electric', 3513),\n",
       "             ('edge', 2300),\n",
       "             ('ramp', 8016),\n",
       "             ('made', 107),\n",
       "             ('bars', 5023),\n",
       "             ('yellow', 5043),\n",
       "             ('uniformed', 20266),\n",
       "             ('performing', 3246),\n",
       "             ('trick', 7951),\n",
       "             ('railed', 33094),\n",
       "             ('object', 6357),\n",
       "             ('Wet', 37834),\n",
       "             ('dog', 2043),\n",
       "             ('swims', 33306),\n",
       "             ('Closeup', 330848),\n",
       "             ('swimming', 5887),\n",
       "             ('furry', 33331),\n",
       "             ('ocean', 5738),\n",
       "             ('big', 276),\n",
       "             ('black', 987),\n",
       "             ('hat', 6755),\n",
       "             ('pitchfork', 106110),\n",
       "             ('directs', 13456),\n",
       "             ('cart', 13182),\n",
       "             ('leading', 457),\n",
       "             ('Clydesdale', 76575),\n",
       "             ('up', 41),\n",
       "             ('hay', 16899),\n",
       "             ('road', 635),\n",
       "             ('within', 405),\n",
       "             ('Old', 3886),\n",
       "             ('Country', 4868),\n",
       "             ('farmer', 7301),\n",
       "             ('fertilizing', 85698),\n",
       "             ('garden', 4210),\n",
       "             ('manure', 24361),\n",
       "             ('wagon', 18697),\n",
       "             ('pulling', 4268),\n",
       "             ('stands', 2428),\n",
       "             ('watches', 9467),\n",
       "             ('group', 229),\n",
       "             ('watch', 1228),\n",
       "             ('choir', 10987),\n",
       "             ('practice', 925),\n",
       "             ('drops', 6114),\n",
       "             ('disc', 8487),\n",
       "             ('top', 213),\n",
       "             ('hill', 7313),\n",
       "             ('elderly', 4291),\n",
       "             ('cafe', 12351),\n",
       "             ('hands', 1157),\n",
       "             ('walk', 1505),\n",
       "             ('through', 108),\n",
       "             ('brick', 9404),\n",
       "             ('town', 644),\n",
       "             ('going', 125),\n",
       "             ('home', 124),\n",
       "             ('listening', 4765),\n",
       "             ('Catholic', 3590),\n",
       "             ('church', 1411),\n",
       "             ('Bicyclists', 98281),\n",
       "             ('intersection', 5669),\n",
       "             ('light', 1056),\n",
       "             ('bikes', 9815),\n",
       "             ('bicycles', 17142),\n",
       "             ('watching', 1801),\n",
       "             ('standing', 2025),\n",
       "             ('attached', 4859),\n",
       "             ('filled', 2217),\n",
       "             ('shaped', 7916),\n",
       "             ('like', 87),\n",
       "             ('three', 80),\n",
       "             ('bikers', 23729),\n",
       "             ('stop', 677),\n",
       "             ('loading', 11001),\n",
       "             ('brush', 8814),\n",
       "             ('trailer', 5732),\n",
       "             ('truck', 2084),\n",
       "             ('beard', 17039),\n",
       "             ('sleeves', 17562),\n",
       "             ('work', 141),\n",
       "             ('gloves', 10427),\n",
       "             ('rope', 11397),\n",
       "             ('facial', 18531),\n",
       "             ('hair', 3227),\n",
       "             ('tugging', 54580),\n",
       "             ('piece', 1868),\n",
       "             ('oriental', 67402),\n",
       "             ('headscarf', 49807),\n",
       "             ('blue', 2836),\n",
       "             ('flashing', 16998),\n",
       "             ('giant', 2455),\n",
       "             ('Asian', 2125),\n",
       "             ('widely', 2976),\n",
       "             ('as', 14),\n",
       "             ('rows', 12692),\n",
       "             ('boat', 2776),\n",
       "             ('worker', 2910),\n",
       "             ('securing', 6713),\n",
       "             ('line', 318),\n",
       "             ('girl', 1408),\n",
       "             ('necklace', 23001),\n",
       "             ('skateboarder', 84206),\n",
       "             ('skates', 22759),\n",
       "             ('pool', 2832),\n",
       "             ('appear', 1404),\n",
       "             ('be', 16),\n",
       "             ('Indian', 1106),\n",
       "             ('Pakistani', 3446),\n",
       "             ('path', 2667),\n",
       "             ('body', 772),\n",
       "             ('mother', 852),\n",
       "             ('carrying', 2259),\n",
       "             ('diaper', 35069),\n",
       "             ('father', 913),\n",
       "             ('wrapped', 5435),\n",
       "             ('blanket', 10248),\n",
       "             ('logo', 6490),\n",
       "             ('humanitarian', 5664),\n",
       "             ('organization', 910),\n",
       "             ('Save', 8101),\n",
       "             ('There', 185),\n",
       "             ('baby', 2083),\n",
       "             ('save', 1114),\n",
       "             ('children', 270),\n",
       "             ('bag', 3621),\n",
       "             ('family', 244),\n",
       "             ('foreign', 754),\n",
       "             ('dirt', 6574),\n",
       "             ('sculptures', 16544),\n",
       "             ('talking', 1311),\n",
       "             ('looks', 1245),\n",
       "             ('Group', 708),\n",
       "             ('dresses', 11648),\n",
       "             ('strolling', 32056),\n",
       "             ('sidewalk', 9858),\n",
       "             ('striped', 35266),\n",
       "             ('jeans', 10339),\n",
       "             ('does', 183),\n",
       "             ('some', 78),\n",
       "             ('steps', 1830),\n",
       "             ('hunched', 53731),\n",
       "             ('photographs', 5388),\n",
       "             ('him', 93),\n",
       "             ('squatting', 52373),\n",
       "             ('photograph', 8504),\n",
       "             ('taking', 452),\n",
       "             ('own', 250),\n",
       "             ('doing', 500),\n",
       "             ('skateboarding', 32179),\n",
       "             ('kick', 2193),\n",
       "             ('flip', 10758),\n",
       "             ('midair', 57573),\n",
       "             ('above', 894),\n",
       "             ('short', 585),\n",
       "             ('flight', 1809),\n",
       "             ('stairs', 12326),\n",
       "             ('outdoors', 9652),\n",
       "             ('One', 400),\n",
       "             ('biker', 32112),\n",
       "             ('running', 587),\n",
       "             ('bike', 4280),\n",
       "             ('riding', 3809),\n",
       "             ('around', 187),\n",
       "             ('back', 95),\n",
       "             ('being', 120),\n",
       "             ('photographed', 13198),\n",
       "             ('lady', 5582),\n",
       "             ('bouquet', 26539),\n",
       "             ('flowers', 5675),\n",
       "             ('seriously', 2846),\n",
       "             ('two', 54),\n",
       "             ('gentlemen', 18519),\n",
       "             ('proudly', 11732),\n",
       "             ('Four', 2675),\n",
       "             ('teenage', 7124),\n",
       "             ('boys', 1636),\n",
       "             ('cannonballs', 173681),\n",
       "             ('Three', 1689),\n",
       "             ('men', 437),\n",
       "             ('grass', 5376),\n",
       "             ('by', 18),\n",
       "             ('something', 347),\n",
       "             ('outdoor', 4725),\n",
       "             ('grill', 14081),\n",
       "             ('basket', 4490),\n",
       "             ('Land', 5964),\n",
       "             ('Rover', 34520),\n",
       "             ('makes', 638),\n",
       "             ('its', 44),\n",
       "             ('way', 132),\n",
       "             ('deep', 1561),\n",
       "             ('pond', 10274),\n",
       "             ('many', 131),\n",
       "             ('relax', 8325),\n",
       "             ('yard', 1350),\n",
       "             ('car', 385),\n",
       "             ('sinking', 9275),\n",
       "             ('guitar', 6138),\n",
       "             ('concert', 2810),\n",
       "             ('wild', 3651),\n",
       "             ('rocks', 7673),\n",
       "             ('center', 456),\n",
       "             ('stage', 943),\n",
       "             ('trolley', 24903),\n",
       "             ('labeled', 7845),\n",
       "             ('Powell', 5134),\n",
       "             ('market', 175),\n",
       "             ('bay', 8269),\n",
       "             ('taylor', 220969),\n",
       "             ('medical', 788),\n",
       "             ('professionals', 2547),\n",
       "             ('african', 217280),\n",
       "             ('&', 287),\n",
       "             ('paperwork', 8187),\n",
       "             ('hospital', 825),\n",
       "             ('reading', 1772),\n",
       "             ('binders', 62737),\n",
       "             ('distance', 2893),\n",
       "             ('past', 262),\n",
       "             ('wall', 2334),\n",
       "             ('painted', 6617),\n",
       "             ('words', 1186),\n",
       "             ('graffiti', 12637),\n",
       "             ('railing', 25979),\n",
       "             ('polo', 32032),\n",
       "             ('pointing', 5687),\n",
       "             ('guy', 1298),\n",
       "             ('bicycle', 9020),\n",
       "             ('jump', 2254),\n",
       "             ('audience', 1615),\n",
       "             ('dress', 4914),\n",
       "             ('coat', 10299),\n",
       "             ('snowflakes', 55157),\n",
       "             ('it', 15),\n",
       "             ('balances', 10203),\n",
       "             ('field', 434),\n",
       "             ('inside', 898),\n",
       "             ('plays', 1200),\n",
       "             ('banjo', 36390),\n",
       "             ('there', 72),\n",
       "             ('trees', 2985),\n",
       "             ('colorful', 7528),\n",
       "             ('outfits', 12319),\n",
       "             ('rock', 2453),\n",
       "             ('girls', 1340),\n",
       "             ('environment', 1150),\n",
       "             ('hats', 10697),\n",
       "             ('open', 341),\n",
       "             ('rocky', 13518),\n",
       "             ('pink', 7163),\n",
       "             ('dancing', 5393),\n",
       "             ('someone', 818),\n",
       "             ('pants', 7945),\n",
       "             ('Man', 2726),\n",
       "             ('gold', 1422),\n",
       "             ('skirt', 16836),\n",
       "             ('computer', 1279),\n",
       "             ('sitting', 2264),\n",
       "             ('desk', 5999),\n",
       "             ('bearded', 28351),\n",
       "             ('foils', 66741),\n",
       "             ('raised', 999),\n",
       "             ('face', 501),\n",
       "             ('bowl', 4682),\n",
       "             ('dances', 13904),\n",
       "             ('fire', 544),\n",
       "             ('baton', 20624),\n",
       "             ('doctor', 2447),\n",
       "             ('checks', 3865),\n",
       "             ('stomach', 7024),\n",
       "             ('toddler', 11630),\n",
       "             ('Young', 2028),\n",
       "             ('putting', 1529),\n",
       "             ('foot', 1099),\n",
       "             ('stick', 3393),\n",
       "             ('capri', 520583),\n",
       "             ('crouches', 193717),\n",
       "             ('left', 196),\n",
       "             ('kicked', 3868),\n",
       "             ('touch', 2435),\n",
       "             ('falling', 2073),\n",
       "             ('balancing', 13114),\n",
       "             ('sticking', 7664),\n",
       "             ('toe', 9345),\n",
       "             ('strolls', 64193),\n",
       "             ('arm', 2430),\n",
       "             ('hand', 660),\n",
       "             ('stare', 22262),\n",
       "             ('passing', 2201),\n",
       "             ('block', 1484),\n",
       "             ('backs', 4454),\n",
       "             ('has', 24),\n",
       "             ('shoulder', 2845),\n",
       "             ('they', 32),\n",
       "             ('New', 442),\n",
       "             ('sport', 2103),\n",
       "             ('played', 407),\n",
       "             ('appreciation', 6110),\n",
       "             ('kids', 809),\n",
       "             ('can', 50),\n",
       "             ('not', 13),\n",
       "             ('wheelchairs', 24719),\n",
       "             ('reaching', 2770),\n",
       "             ('air', 844),\n",
       "             ('basketball', 1375),\n",
       "             ('wheelchair', 10381),\n",
       "             ('players', 298),\n",
       "             ('uniforms', 9036),\n",
       "             ('attempting', 4763),\n",
       "             ('reach', 965),\n",
       "             ('descending', 26520),\n",
       "             ('guys', 1050),\n",
       "             ('court', 344),\n",
       "             ('trying', 469),\n",
       "             ('grab', 5288),\n",
       "             ('dogs', 2766),\n",
       "             ('different', 397),\n",
       "             ('biting', 15957),\n",
       "             ('licking', 34425),\n",
       "             ('each', 223),\n",
       "             ('playfully', 38796),\n",
       "             ('bite', 7586),\n",
       "             ('third', 194),\n",
       "             ('which', 48),\n",
       "             ('tongue', 11069),\n",
       "             ('puppies', 21054),\n",
       "             ('together', 526),\n",
       "             ('Tourists', 26709),\n",
       "             ('scrubs', 48528),\n",
       "             ('operation', 1342),\n",
       "             ('assisted', 5819),\n",
       "             ('movie', 1121),\n",
       "             ('poster', 8349),\n",
       "             ('elf', 51902),\n",
       "             ('umbrella', 10781),\n",
       "             ('suit', 2457),\n",
       "             ('sunlight', 14631),\n",
       "             ('mountain', 4890),\n",
       "             ('slope', 15624),\n",
       "             ('forest', 5201),\n",
       "             ('area', 272),\n",
       "             ('winter', 1887),\n",
       "             ('coats', 17875),\n",
       "             ('grassy', 29486),\n",
       "             ('lawn', 9092),\n",
       "             ('covered', 2027),\n",
       "             ('snow', 2387),\n",
       "             ('conversation', 3399),\n",
       "             ('ground', 884),\n",
       "             ('gentleman', 14333),\n",
       "             ('purple', 11239),\n",
       "             ('scarf', 21859),\n",
       "             ('money', 237),\n",
       "             ('accordion', 36565),\n",
       "             ('BMX', 39135),\n",
       "             ('ravine', 34270),\n",
       "             ('tied', 1544),\n",
       "             ('leaning', 10110),\n",
       "             ('against', 103),\n",
       "             ('post', 731),\n",
       "             ('locked', 4389),\n",
       "             ('cycle', 3910),\n",
       "             ('went', 297),\n",
       "             ('crowded', 6353),\n",
       "             ('during', 135),\n",
       "             ('daytime', 13482),\n",
       "             ('busy', 2607),\n",
       "             ('that', 3),\n",
       "             ('York', 5353),\n",
       "             ('City', 355),\n",
       "             ('view', 995),\n",
       "             ('buildings', 1995),\n",
       "             ('streets', 1852),\n",
       "             ('Times', 1371),\n",
       "             ('Square', 5434),\n",
       "             ('making', 321),\n",
       "             ('clay', 9893),\n",
       "             ('pot', 7145),\n",
       "             ('barber', 34463),\n",
       "             ('customers', 484),\n",
       "             ('preparing', 3014),\n",
       "             ('glaze', 46012),\n",
       "             ('apron', 32295),\n",
       "             ('inspects', 43141),\n",
       "             ('large', 557),\n",
       "             ('cups', 14001),\n",
       "             ('bowls', 15391),\n",
       "             ('pots', 18977),\n",
       "             ('baskets', 9276),\n",
       "             ('assorted', 21202),\n",
       "             ('size', 1326),\n",
       "             ('model', 1372),\n",
       "             ('posing', 10256),\n",
       "             ('look', 329),\n",
       "             ('if', 88),\n",
       "             ('she', 74),\n",
       "             ('real', 591),\n",
       "             ('soccer', 2663),\n",
       "             ('player', 547),\n",
       "             ('Firemen', 66026),\n",
       "             ('emerge', 5891),\n",
       "             ('subway', 11357),\n",
       "             ('station', 1314),\n",
       "             ('Exhausted', 93259),\n",
       "             ('firemen', 28285),\n",
       "             ('firefighters', 3500),\n",
       "             ('nearest', 10483),\n",
       "             ('firefighter', 9619),\n",
       "             ('helmet', 8379),\n",
       "             ('side', 412),\n",
       "             ('clean', 1749),\n",
       "             ('crew', 2111),\n",
       "             ('underwater', 11654),\n",
       "             ('driver', 1172),\n",
       "             ('racing', 2559),\n",
       "             ('Ford', 2085),\n",
       "             ('vehicle', 1024),\n",
       "             ('gravel', 15137),\n",
       "             ('track', 850),\n",
       "             ('plastic', 4471),\n",
       "             ('dinosaur', 24173),\n",
       "             ('toy', 7241),\n",
       "             ('shire', 51409),\n",
       "             ('hate', 4293),\n",
       "             ('bucking', 34062),\n",
       "             ('rodeo', 17000),\n",
       "             ('saddle', 20288),\n",
       "             ('bronc', 353125),\n",
       "             ('rider', 7653),\n",
       "             ('gets', 1002),\n",
       "             ('lifted', 4125),\n",
       "             ('but', 33),\n",
       "             ('keeps', 3215),\n",
       "             ('grip', 7908),\n",
       "             ('ride', 2471),\n",
       "             ('straw', 15420),\n",
       "             ('working', 345),\n",
       "             ('strange', 5494),\n",
       "             ('machine', 3192),\n",
       "             ('coconuts', 65666),\n",
       "             ('rice', 6012),\n",
       "             ('shucking', 209526),\n",
       "             ('corn', 5402),\n",
       "             ('using', 527),\n",
       "             ('shucker', 960352),\n",
       "             ('surrounded', 5349),\n",
       "             ('Chinese', 1035),\n",
       "             ('operating', 827),\n",
       "             ('sort', 1933),\n",
       "             ('stainless', 68457),\n",
       "             ('steel', 3486),\n",
       "             ('what', 83),\n",
       "             ('appears', 1530),\n",
       "             ('park', 1696),\n",
       "             ('shorts', 10704),\n",
       "             ('without', 294),\n",
       "             ('jogging', 22611),\n",
       "             ('iPod', 6772),\n",
       "             ('Women', 2436),\n",
       "             ('exercising', 12254),\n",
       "             ('mat', 16116),\n",
       "             ('outfit', 6754),\n",
       "             ('Students', 3749),\n",
       "             ('practicing', 7322),\n",
       "             ('yoga', 13022),\n",
       "             ('class', 737),\n",
       "             ('stretching', 10151),\n",
       "             ('mats', 29128),\n",
       "             ('Motorcyclist', 81960),\n",
       "             ('others', 488),\n",
       "             ('pose', 6249),\n",
       "             ('sleeping', 6911),\n",
       "             ('leaping', 20730),\n",
       "             ('row', 1968),\n",
       "             ('legs', 4237),\n",
       "             ('boots', 9454),\n",
       "             ('end', 178),\n",
       "             ('lies', 4189),\n",
       "             ('patch', 8188),\n",
       "             ('groups', 756),\n",
       "             ('congregate', 33050),\n",
       "             ('Various', 15912),\n",
       "             ('hanging', 4771),\n",
       "             ('building', 473),\n",
       "             ('follows', 3120),\n",
       "             ('umbrellas', 30550),\n",
       "             ('floor', 1392),\n",
       "             ('packing', 10124),\n",
       "             ('suitcase', 19888),\n",
       "             ('plaid', 63123),\n",
       "             ('trail', 4181),\n",
       "             ('backpacks', 24599),\n",
       "             ('searching', 3925),\n",
       "             ('supplies', 2245),\n",
       "             ('Stacks', 83241),\n",
       "             ('neatly', 21381),\n",
       "             ('folded', 15682),\n",
       "             ('clothing', 3685),\n",
       "             ('cover', 1287),\n",
       "             ('most', 106),\n",
       "             ('this', 28),\n",
       "             ('beige', 29493),\n",
       "             ('busily', 51172),\n",
       "             ('fills', 13367),\n",
       "             ('packs', 10939),\n",
       "             ('belongings', 12638),\n",
       "             ('long', 180),\n",
       "             ('mountains', 6801),\n",
       "             ('resting', 11973),\n",
       "             ('costume', 10621),\n",
       "             ('marching', 14756),\n",
       "             ('drum', 11321),\n",
       "             ('load', 4393),\n",
       "             ('fresh', 1886),\n",
       "             ('direct', 1540),\n",
       "             ('boxes', 4920),\n",
       "             ('wheels', 8386),\n",
       "             ('motorcyclist', 27269),\n",
       "             ('nose', 6001),\n",
       "             ('wheelie', 140925),\n",
       "             ('scooter', 25062),\n",
       "             ('curb', 6053),\n",
       "             ('stopping', 5171),\n",
       "             ('have', 21),\n",
       "             ('smoke', 3595),\n",
       "             ('motorcycle', 6042),\n",
       "             ('smokes', 37866),\n",
       "             ('parked', 5753),\n",
       "             ('burgundy', 47724),\n",
       "             ('dance', 2676),\n",
       "             ('vests', 24410),\n",
       "             ('stripe', 26693),\n",
       "             ('bottom', 1583),\n",
       "             ('await', 11573),\n",
       "             ('beginning', 1120),\n",
       "             ('race', 517),\n",
       "             ('carpeted', 66319),\n",
       "             ('picture', 1947),\n",
       "             ('Toy', 24688),\n",
       "             ('Story', 8172),\n",
       "             ('screen', 1973),\n",
       "             ('jumpsuit', 55492),\n",
       "             ('held', 322),\n",
       "             ('J.P.', 1660199),\n",
       "             ('Morgan', 3765),\n",
       "             ('Chase', 5677),\n",
       "             ('security', 371),\n",
       "             ('costumes', 10357),\n",
       "             ('english', 61667),\n",
       "             ('pulled', 1565),\n",
       "             ('sun', 4128),\n",
       "             ('sets', 2424),\n",
       "             ('perfectly', 5575),\n",
       "             ('manicured', 65359),\n",
       "             ('dusk', 20127),\n",
       "             ('teams', 514),\n",
       "             ('competing', 3338),\n",
       "             ('Soccer', 7133),\n",
       "             ('serving', 1706),\n",
       "             ('occurring', 9351),\n",
       "             ('sunset', 15174),\n",
       "             ('White', 1790),\n",
       "             ('hoodie', 51352),\n",
       "             ('ropes', 13199),\n",
       "             ('Toddler', 49333),\n",
       "             ('sweatshirt', 37436),\n",
       "             ('playground', 10210),\n",
       "             ('amusement', 27660),\n",
       "             ('Walmart', 14411),\n",
       "             ('groceries', 13864),\n",
       "             ('bagged', 15580),\n",
       "             ('employee', 2019),\n",
       "             ('Brown', 973),\n",
       "             ('treads', 73596),\n",
       "             ('checked', 4882),\n",
       "             ('checking', 5400),\n",
       "             ('register', 2631),\n",
       "             ('laundromat', 83254),\n",
       "             ('paddles', 60287),\n",
       "             ('makeshift', 14182),\n",
       "             ('baseball', 1598),\n",
       "             ('about', 46),\n",
       "             ('throw', 1834),\n",
       "             ('zips', 83363),\n",
       "             ('runs', 623),\n",
       "             ('shoreline', 17208),\n",
       "             ('fuzzy', 23281),\n",
       "             ('lap', 3654),\n",
       "             ('pebble', 84595),\n",
       "             ('might', 327),\n",
       "             ('throwing', 3313),\n",
       "             ('ball', 589),\n",
       "             ('Cheerleaders', 73311),\n",
       "             ('cheering', 9627),\n",
       "             ('boombox', 143474),\n",
       "             ('cheer', 8050),\n",
       "             ('football', 723),\n",
       "             ('excited', 1860),\n",
       "             ('holds', 2237),\n",
       "             ('kneeling', 41730),\n",
       "             ('silhouette', 34982),\n",
       "             ('gestures', 14617),\n",
       "             ('spotted', 5066),\n",
       "             ('splashes', 51973),\n",
       "             ('waves', 5968),\n",
       "             ('onlookers', 20977),\n",
       "             ('strand', 28747),\n",
       "             ('beads', 23616),\n",
       "             ('marathon', 7293),\n",
       "             ('point', 283),\n",
       "             ('forwards', 8543),\n",
       "             ('kind', 626),\n",
       "             ('act', 1426),\n",
       "             ('Several', 2680),\n",
       "             ('sync', 16456),\n",
       "             ('adult', 2953),\n",
       "             ('enjoys', 7025),\n",
       "             ('time', 59),\n",
       "             ('hot', 1705),\n",
       "             ('tub', 27415),\n",
       "             ('average', 525),\n",
       "             ('tan', 19958),\n",
       "             ('near', 420),\n",
       "             ('seated', 11309),\n",
       "             ('filming', 8265),\n",
       "             ('formal', 3608),\n",
       "             ('chess', 14603),\n",
       "             ('alone', 1436),\n",
       "             ('try', 627),\n",
       "             ('chessboard', 105709),\n",
       "             ('laid', 3187),\n",
       "             ('dressed', 5219),\n",
       "             ('blazer', 47276),\n",
       "             ('set', 211),\n",
       "             ('arrive', 3835),\n",
       "             ('drink', 3554),\n",
       "             ('beer', 3873),\n",
       "             ('graffitied', 312396),\n",
       "             ('airlifted', 17165),\n",
       "             ('safety', 775),\n",
       "             ('after', 55),\n",
       "             ('danger', 3149),\n",
       "             ('meeting', 349),\n",
       "             ('paying', 1767),\n",
       "             ('attention', 1144),\n",
       "             ('speaker', 5067),\n",
       "             ('conference', 566),\n",
       "             ('speaking', 2232),\n",
       "             ('room', 835),\n",
       "             ('where', 117),\n",
       "             ('talks', 980),\n",
       "             ('notepads', 123269),\n",
       "             ('office', 362),\n",
       "             ('windows', 4162),\n",
       "             ('classroom', 4742),\n",
       "             ('students', 317),\n",
       "             ('discussing', 5237),\n",
       "             ('lecture', 9230),\n",
       "             ('clipboard', 48107),\n",
       "             ('pen', 9526),\n",
       "             ('shows', 807),\n",
       "             ('tablet', 10582),\n",
       "             ('cup', 4964),\n",
       "             ('milk', 4806),\n",
       "             ('barefoot', 29524),\n",
       "             ('Small', 6103),\n",
       "             ('laughing', 7953),\n",
       "             ('sippy', 1125225),\n",
       "             ('drinks', 6099),\n",
       "             ('music', 636),\n",
       "             ('MP3', 15383),\n",
       "             ('headphones', 21186),\n",
       "             ('dogsled', 189999),\n",
       "             ('four', 134),\n",
       "             ('mouth', 4316),\n",
       "             ('warm', 3157),\n",
       "             ('sleds', 51118),\n",
       "             ('cowboy', 20241),\n",
       "             ('Roping', 283994),\n",
       "             ('calf', 12934),\n",
       "             ('Men', 4925),\n",
       "             ('fish', 2388),\n",
       "             ('concrete', 4228),\n",
       "             ('slab', 28343),\n",
       "             ('screaming', 7568),\n",
       "             ('yelling', 8404),\n",
       "             ('arms', 2486),\n",
       "             ('nearby', 2089),\n",
       "             ('lie', 4678),\n",
       "             ('carpet', 12594),\n",
       "             ('O', 5945),\n",
       "             ('wooden', 8648),\n",
       "             ('blocks', 3386),\n",
       "             ('fishing', 3497),\n",
       "             ('campus', 1869),\n",
       "             ('shoulders', 7573),\n",
       "             ('sweater', 22089),\n",
       "             ('bumper', 15114),\n",
       "             ('frolicking', 67349),\n",
       "             ('us', 164),\n",
       "             ('capitol', 27762),\n",
       "             ('multicolored', 52932),\n",
       "             ('Street', 1041),\n",
       "             ('performer', 8353),\n",
       "             ('painting', 5247),\n",
       "             ('cellphone', 12179),\n",
       "             ('scaffolding', 33364),\n",
       "             ('paint', 4392),\n",
       "             ('storefront', 25541),\n",
       "             ('phone', 855),\n",
       "             ('excavator', 59838),\n",
       "             ('digging', 10225),\n",
       "             ('hold', 748),\n",
       "             ('cement', 7433),\n",
       "             ('khaki', 63052),\n",
       "             ('creek', 13870),\n",
       "             ('loads', 10054),\n",
       "             ('heads', 2380),\n",
       "             ('vendor', 6170),\n",
       "             ('Asia', 1733),\n",
       "             ('bring', 634),\n",
       "             ('more', 39),\n",
       "             ('leaves', 2695),\n",
       "             ('sneakers', 22027),\n",
       "             ('stool', 31308),\n",
       "             ('round', 532),\n",
       "             ('sides', 1726),\n",
       "             ('outstretched', 45208),\n",
       "             ('brightly', 34561),\n",
       "             ('spreads', 10598),\n",
       "             ('wide', 1694),\n",
       "             ('pile', 8033),\n",
       "             ('print', 3472),\n",
       "             ('smiles', 10387),\n",
       "             ('lots', 2720),\n",
       "             ('medals', 8202),\n",
       "             ('bikini', 25578),\n",
       "             ('mid', 1549),\n",
       "             ('twenties', 34252),\n",
       "             ('kicking', 6604),\n",
       "             ('feet', 1145),\n",
       "             ('leaf', 15962),\n",
       "             ('paved', 12948),\n",
       "             ('asphalt', 15242),\n",
       "             ('plants', 1977),\n",
       "             ('laughs', 9729),\n",
       "             ('Hispanic', 5553),\n",
       "             ('works', 1037),\n",
       "             ('sewing', 26254),\n",
       "             ('article', 1581),\n",
       "             ('pay', 378),\n",
       "             ('make', 109),\n",
       "             ('call', 315),\n",
       "             ('Some', 617),\n",
       "             ('golden', 7585),\n",
       "             ('sniffing', 35386),\n",
       "             ('butt', 12838),\n",
       "             ('sumo', 69268),\n",
       "             ('wrestler', 14772),\n",
       "             ('belt', 6396),\n",
       "             ('pushing', 2867),\n",
       "             ('bout', 7941),\n",
       "             ('greet', 12275),\n",
       "             ('owners', 1366),\n",
       "             ('silver', 3739),\n",
       "             ('necklaces', 40612),\n",
       "             ('leather', 9996),\n",
       "             ('bra', 24511),\n",
       "             ('fingerless', 538279),\n",
       "             ('sunglasses', 17201),\n",
       "             ('gathering', 3723),\n",
       "             ('climber', 28164),\n",
       "             ('snowy', 21166),\n",
       "             ('mountainside', 43622),\n",
       "             ('takes', 920),\n",
       "             ('leap', 9507),\n",
       "             ('lone', 6031),\n",
       "             ('garment', 20973),\n",
       "             ('framed', 12886),\n",
       "             ('tricks', 11352),\n",
       "             ('sit', 2234),\n",
       "             ('riverbank', 49569),\n",
       "             ('bunch', 4759),\n",
       "             ('action', 598),\n",
       "             ('photo', 2534),\n",
       "             ('knocked', 3488),\n",
       "             ('toward', 1124),\n",
       "             ('goal', 432),\n",
       "             ('tried', 940),\n",
       "             ('Six', 4121),\n",
       "             ('uniform', 5208),\n",
       "             ('airborne', 16824),\n",
       "             ('showing', 1576),\n",
       "             ('American', 259),\n",
       "             ('pride', 4576),\n",
       "             ('star', 948),\n",
       "             ('spangled', 201643),\n",
       "             ('quilted', 88322),\n",
       "             ('vest', 17652),\n",
       "             ('displays', 5721),\n",
       "             ('assortment', 15703),\n",
       "             ('pendants', 73837),\n",
       "             ('neck', 4064),\n",
       "             ('he', 22),\n",
       "             ('go', 152),\n",
       "             ('Girl', 9338),\n",
       "             ('blowing', 7683),\n",
       "             ('butterfly', 15043),\n",
       "             ('among', 364),\n",
       "             ('watermelons', 68268),\n",
       "             ('juke', 148301),\n",
       "             ('box', 1646),\n",
       "             ('sleeps', 27425),\n",
       "             ('both', 184),\n",
       "             ('stoops', 142521),\n",
       "             ('pick', 1205),\n",
       "             ('watermelon', 34940),\n",
       "             ('bends', 35858),\n",
       "             ('picking', 4089),\n",
       "             ...])"
      ]
     },
     "execution_count": 31,
     "metadata": {},
     "output_type": "execute_result"
    }
   ],
   "source": [
    "inv_words"
   ]
  },
  {
   "cell_type": "code",
   "execution_count": 34,
   "metadata": {
    "collapsed": false
   },
   "outputs": [
    {
     "data": {
      "text/plain": [
       "['A',\n",
       " 'person',\n",
       " 'on',\n",
       " 'horse',\n",
       " 'jumps',\n",
       " 'over',\n",
       " 'broken',\n",
       " 'down',\n",
       " 'airplane',\n",
       " 'Children']"
      ]
     },
     "execution_count": 34,
     "metadata": {},
     "output_type": "execute_result"
    }
   ],
   "source": [
    "list(inv_words.keys())[:10]"
   ]
  },
  {
   "cell_type": "code",
   "execution_count": 35,
   "metadata": {
    "collapsed": false
   },
   "outputs": [
    {
     "data": {
      "text/plain": [
       "[73, 571, 5, 3267, 10147, 63, 2197, 119, 8792, 2875]"
      ]
     },
     "execution_count": 35,
     "metadata": {},
     "output_type": "execute_result"
    }
   ],
   "source": [
    "list(inv_words.values())[:10]"
   ]
  },
  {
   "cell_type": "code",
   "execution_count": 36,
   "metadata": {
    "collapsed": true
   },
   "outputs": [],
   "source": [
    "inv_indices = list(inv_words.values())"
   ]
  },
  {
   "cell_type": "code",
   "execution_count": 37,
   "metadata": {
    "collapsed": true
   },
   "outputs": [],
   "source": [
    "inv_W = word2vec.syn0[inv_indices]"
   ]
  },
  {
   "cell_type": "code",
   "execution_count": 38,
   "metadata": {
    "collapsed": false
   },
   "outputs": [
    {
     "data": {
      "text/plain": [
       "(33988, 300)"
      ]
     },
     "execution_count": 38,
     "metadata": {},
     "output_type": "execute_result"
    }
   ],
   "source": [
    "inv_W.shape"
   ]
  },
  {
   "cell_type": "code",
   "execution_count": 39,
   "metadata": {
    "collapsed": true
   },
   "outputs": [],
   "source": [
    "import numpy as np"
   ]
  },
  {
   "cell_type": "code",
   "execution_count": 44,
   "metadata": {
    "collapsed": true
   },
   "outputs": [],
   "source": [
    "rsg = np.random.RandomState(919)"
   ]
  },
  {
   "cell_type": "code",
   "execution_count": 46,
   "metadata": {
    "collapsed": false
   },
   "outputs": [
    {
     "data": {
      "text/plain": [
       "(295, 300)"
      ]
     },
     "execution_count": 46,
     "metadata": {},
     "output_type": "execute_result"
    }
   ],
   "source": [
    "oov_not_train_W = (rsg.rand(len(oov_words_not_train), word2vec.vector_size) - 0.5) / 10.0\n",
    "oov_not_train_W.shape"
   ]
  },
  {
   "cell_type": "code",
   "execution_count": 48,
   "metadata": {
    "collapsed": false
   },
   "outputs": [
    {
     "data": {
      "text/plain": [
       "(34283, 300)"
      ]
     },
     "execution_count": 48,
     "metadata": {},
     "output_type": "execute_result"
    }
   ],
   "source": [
    "unchanged_W = np.concatenate([inv_W, oov_not_train_W])\n",
    "unchanged_W.shape"
   ]
  },
  {
   "cell_type": "code",
   "execution_count": 49,
   "metadata": {
    "collapsed": false
   },
   "outputs": [
    {
     "data": {
      "text/plain": [
       "(9166, 300)"
      ]
     },
     "execution_count": 49,
     "metadata": {},
     "output_type": "execute_result"
    }
   ],
   "source": [
    "oov_in_train_W = (rsg.rand(len(oov_words_in_train), word2vec.vector_size) - 0.5) / 10.0\n",
    "oov_in_train_W.shape"
   ]
  },
  {
   "cell_type": "markdown",
   "metadata": {},
   "source": [
    "##### check equal"
   ]
  },
  {
   "cell_type": "code",
   "execution_count": 69,
   "metadata": {
    "collapsed": false
   },
   "outputs": [
    {
     "data": {
      "text/plain": [
       "True"
      ]
     },
     "execution_count": 69,
     "metadata": {},
     "output_type": "execute_result"
    }
   ],
   "source": [
    "np.all([np.all(word2vec.syn0[i2] == unchanged_W[i1]) for i1, i2 in enumerate(inv_indices)])"
   ]
  },
  {
   "cell_type": "code",
   "execution_count": 70,
   "metadata": {
    "collapsed": true
   },
   "outputs": [],
   "source": [
    "unchanged_W_filename = './snli/unchanged_W.pkl'\n",
    "with open(unchanged_W_filename, 'wb') as f:\n",
    "    pickle.dump(unchanged_W, f)"
   ]
  },
  {
   "cell_type": "code",
   "execution_count": 71,
   "metadata": {
    "collapsed": true
   },
   "outputs": [],
   "source": [
    "oov_in_train_W_filename = './snli/oov_in_train_W.pkl'\n",
    "with open(oov_in_train_W_filename, 'wb') as f:\n",
    "    pickle.dump(oov_in_train_W, f)"
   ]
  },
  {
   "cell_type": "markdown",
   "metadata": {},
   "source": [
    "#### convert sentence to list of words id"
   ]
  },
  {
   "cell_type": "code",
   "execution_count": 73,
   "metadata": {
    "collapsed": true
   },
   "outputs": [],
   "source": [
    "def to_ids(r):\n",
    "    premise_words = word_tokenize(r.sentence1)\n",
    "    hypo_words = word_tokenize(r.sentence2)\n",
    "    premise_ids = []\n",
    "    for w in premise_words:\n",
    "        premise_ids.append(dictionary[w])\n",
    "    hypo_ids = []\n",
    "    for w in hypo_words:\n",
    "        hypo_ids.append(dictionary[w])\n",
    "    r.loc['sentence1'] = premise_ids\n",
    "    r.loc['sentence2'] = hypo_ids\n",
    "    return r"
   ]
  },
  {
   "cell_type": "code",
   "execution_count": 75,
   "metadata": {
    "collapsed": true
   },
   "outputs": [],
   "source": [
    "train_df = train_df.fillna('')"
   ]
  },
  {
   "cell_type": "code",
   "execution_count": 76,
   "metadata": {
    "collapsed": true
   },
   "outputs": [],
   "source": [
    "converted_train = train_df.apply(to_ids, axis=1)"
   ]
  },
  {
   "cell_type": "code",
   "execution_count": 77,
   "metadata": {
    "collapsed": true
   },
   "outputs": [],
   "source": [
    "dev_df = dev_df.fillna('')"
   ]
  },
  {
   "cell_type": "code",
   "execution_count": 78,
   "metadata": {
    "collapsed": true
   },
   "outputs": [],
   "source": [
    "converted_dev = dev_df.apply(to_ids, axis=1)"
   ]
  },
  {
   "cell_type": "code",
   "execution_count": 79,
   "metadata": {
    "collapsed": true
   },
   "outputs": [],
   "source": [
    "test_df = test_df.fillna('')"
   ]
  },
  {
   "cell_type": "code",
   "execution_count": 81,
   "metadata": {
    "collapsed": false
   },
   "outputs": [],
   "source": [
    "converted_test = test_df.apply(to_ids, axis=1)"
   ]
  },
  {
   "cell_type": "code",
   "execution_count": 82,
   "metadata": {
    "collapsed": false
   },
   "outputs": [
    {
     "data": {
      "text/plain": [
       "Index(['gold_label', 'sentence1_binary_parse', 'sentence2_binary_parse',\n",
       "       'sentence1_parse', 'sentence2_parse', 'sentence1', 'sentence2',\n",
       "       'captionID', 'pairID', 'label1', 'label2', 'label3', 'label4',\n",
       "       'label5'],\n",
       "      dtype='object')"
      ]
     },
     "execution_count": 82,
     "metadata": {},
     "output_type": "execute_result"
    }
   ],
   "source": [
    "converted_train.columns"
   ]
  },
  {
   "cell_type": "code",
   "execution_count": 83,
   "metadata": {
    "collapsed": true
   },
   "outputs": [],
   "source": [
    "saved_columns = ['sentence1', 'sentence2', 'gold_label']"
   ]
  },
  {
   "cell_type": "code",
   "execution_count": 84,
   "metadata": {
    "collapsed": true
   },
   "outputs": [],
   "source": [
    "converted_train = converted_train[saved_columns]\n",
    "converted_dev = converted_dev[saved_columns]\n",
    "converted_test = converted_test[saved_columns]"
   ]
  },
  {
   "cell_type": "code",
   "execution_count": 85,
   "metadata": {
    "collapsed": false
   },
   "outputs": [
    {
     "data": {
      "text/plain": [
       "Index(['sentence1', 'sentence2', 'gold_label'], dtype='object')"
      ]
     },
     "execution_count": 85,
     "metadata": {},
     "output_type": "execute_result"
    }
   ],
   "source": [
    "converted_train.columns"
   ]
  },
  {
   "cell_type": "code",
   "execution_count": 86,
   "metadata": {
    "collapsed": true
   },
   "outputs": [],
   "source": [
    "converted_train_filename = './snli/converted_train.pkl'\n",
    "with open(converted_train_filename, 'wb') as f:\n",
    "    pickle.dump(converted_train, f)"
   ]
  },
  {
   "cell_type": "code",
   "execution_count": 87,
   "metadata": {
    "collapsed": true
   },
   "outputs": [],
   "source": [
    "converted_dev_filename = './snli/converted_dev.pkl'\n",
    "with open(converted_dev_filename, 'wb') as f:\n",
    "    pickle.dump(converted_dev, f)"
   ]
  },
  {
   "cell_type": "code",
   "execution_count": 88,
   "metadata": {
    "collapsed": true
   },
   "outputs": [],
   "source": [
    "converted_test_filename = './snli/converted_test.pkl'\n",
    "with open(converted_test_filename, 'wb') as f:\n",
    "    pickle.dump(converted_test, f)"
   ]
  },
  {
   "cell_type": "code",
   "execution_count": 89,
   "metadata": {
    "collapsed": false
   },
   "outputs": [
    {
     "data": {
      "text/html": [
       "<div>\n",
       "<table border=\"1\" class=\"dataframe\">\n",
       "  <thead>\n",
       "    <tr style=\"text-align: right;\">\n",
       "      <th></th>\n",
       "      <th>sentence1</th>\n",
       "      <th>sentence2</th>\n",
       "      <th>gold_label</th>\n",
       "    </tr>\n",
       "  </thead>\n",
       "  <tbody>\n",
       "    <tr>\n",
       "      <th>0</th>\n",
       "      <td>[0, 1, 2, 39993, 3, 4, 5, 39993, 6, 7, 8, 40257]</td>\n",
       "      <td>[0, 1, 15, 3186, 28, 3, 147, 39993, 1457, 40257]</td>\n",
       "      <td>neutral</td>\n",
       "    </tr>\n",
       "    <tr>\n",
       "      <th>1</th>\n",
       "      <td>[0, 1, 2, 39993, 3, 4, 5, 39993, 6, 7, 8, 40257]</td>\n",
       "      <td>[0, 1, 15, 12, 39993, 2153, 35516, 3303, 81, 1...</td>\n",
       "      <td>contradiction</td>\n",
       "    </tr>\n",
       "    <tr>\n",
       "      <th>2</th>\n",
       "      <td>[0, 1, 2, 39993, 3, 4, 5, 39993, 6, 7, 8, 40257]</td>\n",
       "      <td>[0, 1, 15, 337, 35516, 2, 39993, 3, 40257]</td>\n",
       "      <td>entailment</td>\n",
       "    </tr>\n",
       "    <tr>\n",
       "      <th>3</th>\n",
       "      <td>[9, 10, 38944, 11, 12, 13]</td>\n",
       "      <td>[4802, 45, 10, 12, 124, 1305]</td>\n",
       "      <td>neutral</td>\n",
       "    </tr>\n",
       "    <tr>\n",
       "      <th>4</th>\n",
       "      <td>[9, 10, 38944, 11, 12, 13]</td>\n",
       "      <td>[301, 45, 304, 4511]</td>\n",
       "      <td>entailment</td>\n",
       "    </tr>\n",
       "  </tbody>\n",
       "</table>\n",
       "</div>"
      ],
      "text/plain": [
       "                                          sentence1  \\\n",
       "0  [0, 1, 2, 39993, 3, 4, 5, 39993, 6, 7, 8, 40257]   \n",
       "1  [0, 1, 2, 39993, 3, 4, 5, 39993, 6, 7, 8, 40257]   \n",
       "2  [0, 1, 2, 39993, 3, 4, 5, 39993, 6, 7, 8, 40257]   \n",
       "3                        [9, 10, 38944, 11, 12, 13]   \n",
       "4                        [9, 10, 38944, 11, 12, 13]   \n",
       "\n",
       "                                           sentence2     gold_label  \n",
       "0   [0, 1, 15, 3186, 28, 3, 147, 39993, 1457, 40257]        neutral  \n",
       "1  [0, 1, 15, 12, 39993, 2153, 35516, 3303, 81, 1...  contradiction  \n",
       "2         [0, 1, 15, 337, 35516, 2, 39993, 3, 40257]     entailment  \n",
       "3                      [4802, 45, 10, 12, 124, 1305]        neutral  \n",
       "4                               [301, 45, 304, 4511]     entailment  "
      ]
     },
     "execution_count": 89,
     "metadata": {},
     "output_type": "execute_result"
    }
   ],
   "source": [
    "converted_train.head()"
   ]
  },
  {
   "cell_type": "code",
   "execution_count": 90,
   "metadata": {
    "collapsed": false
   },
   "outputs": [
    {
     "data": {
      "text/html": [
       "<div>\n",
       "<table border=\"1\" class=\"dataframe\">\n",
       "  <thead>\n",
       "    <tr style=\"text-align: right;\">\n",
       "      <th></th>\n",
       "      <th>sentence1</th>\n",
       "      <th>sentence2</th>\n",
       "      <th>gold_label</th>\n",
       "    </tr>\n",
       "  </thead>\n",
       "  <tbody>\n",
       "    <tr>\n",
       "      <th>0</th>\n",
       "      <td>[42, 44, 45, 1074, 35, 67, 35350, 985, 6934, 4...</td>\n",
       "      <td>[84, 3397, 45, 46, 66, 35, 67, 35350, 985, 693...</td>\n",
       "      <td>neutral</td>\n",
       "    </tr>\n",
       "    <tr>\n",
       "      <th>1</th>\n",
       "      <td>[42, 44, 45, 1074, 35, 67, 35350, 985, 6934, 4...</td>\n",
       "      <td>[42, 107, 45, 67, 6934, 40257]</td>\n",
       "      <td>entailment</td>\n",
       "    </tr>\n",
       "    <tr>\n",
       "      <th>2</th>\n",
       "      <td>[42, 44, 45, 1074, 35, 67, 35350, 985, 6934, 4...</td>\n",
       "      <td>[84, 359, 45, 1499, 102, 39993, 6530, 40257]</td>\n",
       "      <td>contradiction</td>\n",
       "    </tr>\n",
       "    <tr>\n",
       "      <th>3</th>\n",
       "      <td>[42, 125, 304, 18, 269, 1221, 35516, 47, 27, 1...</td>\n",
       "      <td>[42, 479, 18, 2619, 1221, 9645, 124, 230, 40257]</td>\n",
       "      <td>entailment</td>\n",
       "    </tr>\n",
       "    <tr>\n",
       "      <th>4</th>\n",
       "      <td>[42, 125, 304, 18, 269, 1221, 35516, 47, 27, 1...</td>\n",
       "      <td>[42, 479, 12, 39993, 4535, 9645, 124, 230, 40257]</td>\n",
       "      <td>neutral</td>\n",
       "    </tr>\n",
       "  </tbody>\n",
       "</table>\n",
       "</div>"
      ],
      "text/plain": [
       "                                           sentence1  \\\n",
       "0  [42, 44, 45, 1074, 35, 67, 35350, 985, 6934, 4...   \n",
       "1  [42, 44, 45, 1074, 35, 67, 35350, 985, 6934, 4...   \n",
       "2  [42, 44, 45, 1074, 35, 67, 35350, 985, 6934, 4...   \n",
       "3  [42, 125, 304, 18, 269, 1221, 35516, 47, 27, 1...   \n",
       "4  [42, 125, 304, 18, 269, 1221, 35516, 47, 27, 1...   \n",
       "\n",
       "                                           sentence2     gold_label  \n",
       "0  [84, 3397, 45, 46, 66, 35, 67, 35350, 985, 693...        neutral  \n",
       "1                     [42, 107, 45, 67, 6934, 40257]     entailment  \n",
       "2       [84, 359, 45, 1499, 102, 39993, 6530, 40257]  contradiction  \n",
       "3   [42, 479, 18, 2619, 1221, 9645, 124, 230, 40257]     entailment  \n",
       "4  [42, 479, 12, 39993, 4535, 9645, 124, 230, 40257]        neutral  "
      ]
     },
     "execution_count": 90,
     "metadata": {},
     "output_type": "execute_result"
    }
   ],
   "source": [
    "converted_dev.head()"
   ]
  },
  {
   "cell_type": "code",
   "execution_count": 91,
   "metadata": {
    "collapsed": false
   },
   "outputs": [
    {
     "data": {
      "text/html": [
       "<div>\n",
       "<table border=\"1\" class=\"dataframe\">\n",
       "  <thead>\n",
       "    <tr style=\"text-align: right;\">\n",
       "      <th></th>\n",
       "      <th>sentence1</th>\n",
       "      <th>sentence2</th>\n",
       "      <th>gold_label</th>\n",
       "    </tr>\n",
       "  </thead>\n",
       "  <tbody>\n",
       "    <tr>\n",
       "      <th>0</th>\n",
       "      <td>[1349, 239, 222, 1259, 35350, 19, 10778, 274, ...</td>\n",
       "      <td>[84, 239, 472, 12740, 18, 19, 3053, 40257]</td>\n",
       "      <td>neutral</td>\n",
       "    </tr>\n",
       "    <tr>\n",
       "      <th>1</th>\n",
       "      <td>[1349, 239, 222, 1259, 35350, 19, 10778, 274, ...</td>\n",
       "      <td>[84, 239, 15, 248, 27, 3087, 40257]</td>\n",
       "      <td>entailment</td>\n",
       "    </tr>\n",
       "    <tr>\n",
       "      <th>2</th>\n",
       "      <td>[1349, 239, 222, 1259, 35350, 19, 10778, 274, ...</td>\n",
       "      <td>[0, 222, 1135, 12, 39993, 761, 83, 40257]</td>\n",
       "      <td>contradiction</td>\n",
       "    </tr>\n",
       "    <tr>\n",
       "      <th>3</th>\n",
       "      <td>[0, 107, 27, 39993, 132, 268, 35516, 269, 56, ...</td>\n",
       "      <td>[84, 107, 15, 125, 40257]</td>\n",
       "      <td>neutral</td>\n",
       "    </tr>\n",
       "    <tr>\n",
       "      <th>4</th>\n",
       "      <td>[0, 107, 27, 39993, 132, 268, 35516, 269, 56, ...</td>\n",
       "      <td>[84, 107, 15, 1081, 1828, 40257]</td>\n",
       "      <td>entailment</td>\n",
       "    </tr>\n",
       "  </tbody>\n",
       "</table>\n",
       "</div>"
      ],
      "text/plain": [
       "                                           sentence1  \\\n",
       "0  [1349, 239, 222, 1259, 35350, 19, 10778, 274, ...   \n",
       "1  [1349, 239, 222, 1259, 35350, 19, 10778, 274, ...   \n",
       "2  [1349, 239, 222, 1259, 35350, 19, 10778, 274, ...   \n",
       "3  [0, 107, 27, 39993, 132, 268, 35516, 269, 56, ...   \n",
       "4  [0, 107, 27, 39993, 132, 268, 35516, 269, 56, ...   \n",
       "\n",
       "                                    sentence2     gold_label  \n",
       "0  [84, 239, 472, 12740, 18, 19, 3053, 40257]        neutral  \n",
       "1         [84, 239, 15, 248, 27, 3087, 40257]     entailment  \n",
       "2   [0, 222, 1135, 12, 39993, 761, 83, 40257]  contradiction  \n",
       "3                   [84, 107, 15, 125, 40257]        neutral  \n",
       "4            [84, 107, 15, 1081, 1828, 40257]     entailment  "
      ]
     },
     "execution_count": 91,
     "metadata": {},
     "output_type": "execute_result"
    }
   ],
   "source": [
    "converted_test.head()"
   ]
  },
  {
   "cell_type": "code",
   "execution_count": null,
   "metadata": {
    "collapsed": true
   },
   "outputs": [],
   "source": []
  }
 ],
 "metadata": {
  "kernelspec": {
   "display_name": "Python 3",
   "language": "python",
   "name": "python3"
  },
  "language_info": {
   "codemirror_mode": {
    "name": "ipython",
    "version": 3
   },
   "file_extension": ".py",
   "mimetype": "text/x-python",
   "name": "python",
   "nbconvert_exporter": "python",
   "pygments_lexer": "ipython3",
   "version": "3.5.1"
  }
 },
 "nbformat": 4,
 "nbformat_minor": 0
}
